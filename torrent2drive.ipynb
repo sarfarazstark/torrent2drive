{
  "cells": [
    {
      "cell_type": "markdown",
      "metadata": {
        "id": "avwfXH0q96Cz"
      },
      "source": [
        "# **STEP 1 : MOUNT YOUR GOOGLE DRIVE WHERE YOU WANT TO STORE THE DATA**"
      ]
    },
    {
      "cell_type": "code",
      "execution_count": null,
      "metadata": {
        "colab": {
          "base_uri": "https://localhost:8080/"
        },
        "executionInfo": {
          "elapsed": 82542,
          "status": "ok",
          "timestamp": 1663865222771,
          "user": {
            "displayName": "Sarfaraz Stark",
            "userId": "18133677531886287696"
          },
          "user_tz": -330
        },
        "id": "U2avD1zRIlWA",
        "outputId": "d7c37440-772e-49de-9073-d3c5941680a3"
      },
      "outputs": [
        {
          "output_type": "stream",
          "name": "stdout",
          "text": [
            "Mounted at /content/drive\n"
          ]
        }
      ],
      "source": [
        "#@markdown <br><center><img src='https://upload.wikimedia.org/wikipedia/commons/thumb/d/da/Google_Drive_logo.png/600px-Google_Drive_logo.png' height=\"50\" alt=\"Gdrive logo\"/></center>\n",
        "#@markdown <center><h3>Mount Gdrive to /content/drive</h3></center><br>\n",
        "MODE = \"MOUNT\" #@param [\"MOUNT\", \"UNMOUNT\"]\n",
        "#Mount your Gdrive! \n",
        "from google.colab import drive\n",
        "drive.mount._DEBUG = False\n",
        "if MODE == \"MOUNT\":\n",
        "  drive.mount('/content/drive', force_remount=True)\n",
        "elif MODE == \"UNMOUNT\":\n",
        "  try:\n",
        "    drive.flush_and_unmount()\n",
        "  except ValueError:\n",
        "    pass\n",
        "  get_ipython().system_raw(\"rm -rf /root/.config/Google/DriveFS\")"
      ]
    },
    {
      "cell_type": "markdown",
      "metadata": {
        "id": "4bAO4BwL-LNG"
      },
      "source": [
        "# **STEP 2 : INSTALL THE PYTHON LIBRARIES**"
      ]
    },
    {
      "cell_type": "code",
      "execution_count": null,
      "metadata": {
        "colab": {
          "base_uri": "https://localhost:8080/"
        },
        "executionInfo": {
          "elapsed": 24252,
          "status": "ok",
          "timestamp": 1663865289477,
          "user": {
            "displayName": "Sarfaraz Stark",
            "userId": "18133677531886287696"
          },
          "user_tz": -330
        },
        "id": "m6hF0emftx4h",
        "outputId": "c3f2ce4e-59c8-460a-bf8d-eb25036f45b4"
      },
      "outputs": [
        {
          "output_type": "stream",
          "name": "stdout",
          "text": [
            "Server Started Successfully\n"
          ]
        }
      ],
      "source": [
        "!python -m pip install --upgrade pip setuptools wheel\n",
        "!python -m pip install lbry-libtorrent\n",
        "!apt install python3-libtorrent\n",
        "\n",
        "import libtorrent as lt\n",
        "\n",
        "ses = lt.session()\n",
        "ses.listen_on(6881, 6891)\n",
        "downloads = []\n",
        "\n",
        "from IPython.display import HTML, clear_output\n",
        "\n",
        "clear_output()\n",
        "\n",
        "print(\"Server Started Successfully\")\n",
        "\n"
      ]
    },
    {
      "cell_type": "markdown",
      "metadata": {
        "id": "S7H4e7_9Ya5w"
      },
      "source": [
        "# *Following steps for Google Drive Upload (Personal Drive)*\n"
      ]
    },
    {
      "cell_type": "markdown",
      "metadata": {
        "id": "x9FayJLM-cMc"
      },
      "source": [
        "# **STEP 3 : UPLOAD .TORRENT FILE OR PASTE MAGNET LINK [for GDrive]**\n",
        "**This supports simultaneous torrent uploads :D**"
      ]
    },
    {
      "cell_type": "code",
      "execution_count": null,
      "metadata": {
        "id": "0et2A6N3udA0"
      },
      "outputs": [],
      "source": [
        "#@title\n",
        "#@markdown <h3>⬅️ Click Here to </h3>\n",
        "#@markdown <h3>Upload torrent file</h3>\n",
        "#@markdown <h5>You can run this cell to add more files as many times as you want</h5>\n",
        "#@markdown <h5>No parallel downloading using .torrent files, use magnet for that</h5><br>\n",
        "\n",
        "\n",
        "from google.colab import files\n",
        "\n",
        "source = files.upload()\n",
        "params = {\n",
        "    \"save_path\": \"/content/drive/My Drive/Torrent\",\n",
        "    \"ti\": lt.torrent_info(list(source.keys())[0]),\n",
        "}\n",
        "downloads.append(ses.add_torrent(params))"
      ]
    },
    {
      "cell_type": "code",
      "execution_count": null,
      "metadata": {
        "id": "Cwi1GMlxy3te"
      },
      "outputs": [],
      "source": [
        "#@title\n",
        "#@markdown <h3>⬅️ Click Here to </h3>\n",
        "#@markdown <h3>Add From Magnet Link</h3>\n",
        "#@markdown <h5>You can run this cell to add more files as many times as you want</h5><br>\n",
        "\n",
        "\n",
        "params = {\"save_path\": \"/content/drive/My Drive/Torrent\"}\n",
        "\n",
        "while True:\n",
        "    magnet_link = input(\"Enter Magnet Link Or Type Exit: \")\n",
        "    if magnet_link.lower() == \"exit\":\n",
        "        break\n",
        "    downloads.append(\n",
        "        lt.add_magnet_uri(ses, magnet_link, params)\n",
        "    )\n"
      ]
    },
    {
      "cell_type": "markdown",
      "metadata": {
        "id": "BrkGxzX9bfy2"
      },
      "source": [
        "# *Following steps for Team Drive Upload (Shared Drive)*\n"
      ]
    },
    {
      "cell_type": "markdown",
      "metadata": {
        "id": "7S10BUccJnQz"
      },
      "source": [
        "# **STEP 3 : UPLOAD .TORRENT FILE OR PASTE MAGNET LINK [for Shared Drive]**"
      ]
    },
    {
      "cell_type": "code",
      "execution_count": null,
      "metadata": {
        "id": "qp5Va6shTTVX"
      },
      "outputs": [],
      "source": [
        "#@title\n",
        "#@markdown <h3>⬅️ Click Here to </h3>\n",
        "#@markdown <h3><b>Add From Magnet File</b></h3>\n",
        "#@markdown <h5>You can run this cell to add more files as many times as you want</h5>\n",
        "#@markdown <h5>Doesn't support parallel downloding, use magnet method for that</h5><br>\n",
        "\n",
        "#@markdown <h3>Enter the path of TD as shown in the video :</h3>\n",
        "path = \"/content/drive/Shared drives/Sarfaraz Drive/\" #@param {type:\"string\"}\n",
        "check=[]\n",
        "\n",
        "\n",
        "from google.colab import files\n",
        "\n",
        "source = files.upload()\n",
        "params = {\n",
        "    \"save_path\": path,\n",
        "    \"ti\": lt.torrent_info(list(source.keys())[0]),\n",
        "}\n",
        "downloads.append(ses.add_torrent(params))\n",
        "\n",
        "clear_output()\n",
        "\n",
        "print(\"Started Successfully\")\n"
      ]
    },
    {
      "cell_type": "code",
      "execution_count": null,
      "metadata": {
        "colab": {
          "base_uri": "https://localhost:8080/"
        },
        "executionInfo": {
          "elapsed": 26652,
          "status": "ok",
          "timestamp": 1663865413656,
          "user": {
            "displayName": "Sarfaraz Stark",
            "userId": "18133677531886287696"
          },
          "user_tz": -330
        },
        "id": "DmbhGmxLTXmo",
        "outputId": "e195d023-3c26-4031-8c27-4c06008e4c88"
      },
      "outputs": [
        {
          "output_type": "stream",
          "name": "stdout",
          "text": [
            "Started Successfully\n"
          ]
        }
      ],
      "source": [
        "#@title\n",
        "#@markdown <h3>⬅️ Click Here to </h3>\n",
        "#@markdown <h3><b>Add From Magnet Link</b></h3>\n",
        "#@markdown <h5>You can run this cell to add more files as many times as you want</h5><br>\n",
        "\n",
        "#@markdown <h3>Enter the path of TD as shown in the video :</h3>\n",
        "path = \"/content/drive/Shared drives/Sarfaraz Drive/Untitled-folder\" #@param {type:\"string\"}\n",
        "check=[]\n",
        "params = {\"save_path\": path}\n",
        "\n",
        "while True:\n",
        "    magnet_link = input(\"Enter Magnet Link Or Type Exit: \")\n",
        "    if magnet_link.lower() == \"exit\":\n",
        "        break\n",
        "    downloads.append(\n",
        "        lt.add_magnet_uri(ses, magnet_link, params)\n",
        "    )\n",
        "\n",
        "clear_output()\n",
        "\n",
        "print(\"Started Successfully\")   \n"
      ]
    },
    {
      "cell_type": "markdown",
      "metadata": {
        "id": "hjImxBzAISUX"
      },
      "source": [
        "# **STEP 4 : START CLOUD UPLOAD**"
      ]
    },
    {
      "cell_type": "code",
      "source": [
        "import time\n",
        "from IPython.display import display\n",
        "import ipywidgets as widgets\n",
        "\n",
        "state_str = [\n",
        "    \"queued\",\n",
        "    \"checking\",\n",
        "    \"downloading metadata\",\n",
        "    \"downloading\",\n",
        "    \"finished\",\n",
        "    \"seeding\",\n",
        "    \"allocating\",\n",
        "    \"checking fastresume\",\n",
        "]\n",
        "\n",
        "layout = widgets.Layout(width=\"auto\")\n",
        "style = {\"description_width\": \"initial\"}\n",
        "download_bars = [\n",
        "    widgets.FloatSlider(\n",
        "        step=0.01, disabled=True, layout=layout, style=style\n",
        "    )\n",
        "    for _ in downloads\n",
        "]\n",
        "display(*download_bars)\n",
        "\n",
        "while downloads:\n",
        "    next_shift = 0\n",
        "    for index, download in enumerate(downloads[:]):\n",
        "        bar = download_bars[index + next_shift]\n",
        "        if not download.is_seed():\n",
        "            s = download.status()\n",
        "\n",
        "            bar.description = \" \".join(\n",
        "                [\n",
        "                    download.name(),\n",
        "                    str(s.download_rate / 1000),\n",
        "                    \"kB/s\",\n",
        "                    state_str[s.state],\n",
        "                ]\n",
        "            )\n",
        "            bar.value = s.progress * 100\n",
        "        else:\n",
        "            next_shift -= 1\n",
        "            ses.remove_torrent(download)\n",
        "            downloads.remove(download)\n",
        "            bar.close() # Seems to be not working in Colab (see https://github.com/googlecolab/colabtools/issues/726#issue-486731758)\n",
        "            download_bars.remove(bar)\n",
        "            print(download.name(), \"complete\")\n",
        "    time.sleep(1)\n"
      ],
      "metadata": {
        "cellView": "code",
        "id": "l4qVvWkDIQBy"
      },
      "execution_count": null,
      "outputs": []
    }
  ],
  "metadata": {
    "colab": {
      "collapsed_sections": [],
      "provenance": [
        {
          "file_id": "13ADBIbVvRikAMnNcVC2yfqa-WalWSi4I",
          "timestamp": 1663865907692
        }
      ]
    },
    "kernelspec": {
      "display_name": "Python 3",
      "name": "python3"
    },
    "accelerator": "GPU"
  },
  "nbformat": 4,
  "nbformat_minor": 0
}
